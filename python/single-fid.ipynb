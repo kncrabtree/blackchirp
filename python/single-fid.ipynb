{
 "cells": [
  {
   "cell_type": "markdown",
   "id": "5be347e5-84b3-4c23-a560-1553c271f9cb",
   "metadata": {
    "tags": []
   },
   "source": [
    "# Single FID Example\n",
    "\n",
    "This example shows an overview of the basic functionality of the Blackchirp python module. It uses data acquired using the UC Davis Ka band (26.5 - 40 GHz) CP-FTMW spectrometer.\n",
    "\n",
    "To get started, first ensure that the module has been installed with `pip install blackchirp`. It is recommended to import the main blackchirp classes with `from blackchirp import *`. The cell below is configured to import from the development version of the module if this example notebook is run from the blackchirp source directory.\n"
   ]
  },
  {
   "cell_type": "code",
   "execution_count": 1,
   "id": "2cc40943-f682-4598-b3c4-f4bdd2660d16",
   "metadata": {
    "tags": []
   },
   "outputs": [],
   "source": [
    "from blackchirp.src.blackchirp import * # replace with from blackchirp import *\n",
    "from matplotlib import pyplot as plt"
   ]
  },
  {
   "cell_type": "markdown",
   "id": "0ee20db2-70ef-42b2-8218-8bb3ed0468e1",
   "metadata": {},
   "source": [
    "## Loading and Inspecting an Experiment\n",
    "\n",
    "In this example, we will use a CP-FTMW spectrum of methyl tert-butyl ether, which is assumed to be in the directory `example-data/mtbe`. This directory contains the contents of the Blackchirp data, which was copied from the original data storage location."
   ]
  },
  {
   "cell_type": "code",
   "execution_count": 2,
   "id": "4080c265-25ea-4fa3-81d0-88e4963cde9b",
   "metadata": {
    "tags": []
   },
   "outputs": [
    {
     "name": "stdout",
     "output_type": "stream",
     "text": [
      "ls: cannot access 'example-data/mtbe-2/': No such file or directory\n"
     ]
    }
   ],
   "source": [
    "ll example-data/mtbe/"
   ]
  },
  {
   "cell_type": "markdown",
   "id": "b4861ec1-1f78-4548-a418-63b0715aff32",
   "metadata": {},
   "source": [
    "The `BCExperiment` class is used to read in these files and construct python objects for them. Since all Blackchirp data is written in CSV format, the files are read in using `pandas.read_csv` and are available as pandas `DataFrame` objects with the same name as the corresponding CSV file. To load an experiment, pass the appropriate path to `BCExperiment`. This path should be the folder which contains the `version.csv` file for the desired experiment. Once loaded, the contents of the csv files may be inspected easily. Here we show the header."
   ]
  },
  {
   "cell_type": "code",
   "execution_count": 3,
   "id": "07505926-52a0-44b3-8510-8842f6db49ff",
   "metadata": {},
   "outputs": [
    {
     "ename": "FileNotFoundError",
     "evalue": "Could not find Blackchirp data at /home/kncrabtree/github/blackchirp/src/python/example-data/mtbe-2",
     "output_type": "error",
     "traceback": [
      "\u001b[0;31m---------------------------------------------------------------------------\u001b[0m",
      "\u001b[0;31mFileNotFoundError\u001b[0m                         Traceback (most recent call last)",
      "Cell \u001b[0;32mIn[3], line 1\u001b[0m\n\u001b[0;32m----> 1\u001b[0m exp \u001b[38;5;241m=\u001b[39m \u001b[43mBCExperiment\u001b[49m\u001b[43m(\u001b[49m\u001b[38;5;124;43m'\u001b[39;49m\u001b[38;5;124;43m./example-data/mtbe-2/\u001b[39;49m\u001b[38;5;124;43m'\u001b[39;49m\u001b[43m)\u001b[49m\n\u001b[1;32m      3\u001b[0m exp\u001b[38;5;241m.\u001b[39mheader\n",
      "File \u001b[0;32m~/github/blackchirp/src/python/blackchirp/src/blackchirp/blackchirpexperiment.py:116\u001b[0m, in \u001b[0;36mBCExperiment.__init__\u001b[0;34m(self, path, num)\u001b[0m\n\u001b[1;32m    114\u001b[0m         \u001b[38;5;28;01mraise\u001b[39;00m \u001b[38;5;167;01mFileNotFoundError\u001b[39;00m(\u001b[38;5;124mf\u001b[39m\u001b[38;5;124m\"\u001b[39m\u001b[38;5;124mCould not find Blackchirp data at \u001b[39m\u001b[38;5;132;01m{\u001b[39;00mtestpath\u001b[38;5;132;01m}\u001b[39;00m\u001b[38;5;124m\"\u001b[39m)\n\u001b[1;32m    115\u001b[0m \u001b[38;5;28;01melse\u001b[39;00m:\n\u001b[0;32m--> 116\u001b[0m     \u001b[38;5;28;01mraise\u001b[39;00m \u001b[38;5;167;01mFileNotFoundError\u001b[39;00m(\n\u001b[1;32m    117\u001b[0m         \u001b[38;5;124mf\u001b[39m\u001b[38;5;124m\"\u001b[39m\u001b[38;5;124mCould not find Blackchirp data at \u001b[39m\u001b[38;5;132;01m{\u001b[39;00mos\u001b[38;5;241m.\u001b[39mpath\u001b[38;5;241m.\u001b[39mabspath(path)\u001b[38;5;132;01m}\u001b[39;00m\u001b[38;5;124m\"\u001b[39m\n\u001b[1;32m    118\u001b[0m     )\n\u001b[1;32m    120\u001b[0m \u001b[38;5;66;03m# read separator character from version file\u001b[39;00m\n\u001b[1;32m    121\u001b[0m \u001b[38;5;28;01mwith\u001b[39;00m \u001b[38;5;28mopen\u001b[39m(os\u001b[38;5;241m.\u001b[39mpath\u001b[38;5;241m.\u001b[39mjoin(\u001b[38;5;28mself\u001b[39m\u001b[38;5;241m.\u001b[39mpath, \u001b[38;5;124m\"\u001b[39m\u001b[38;5;124mversion.csv\u001b[39m\u001b[38;5;124m\"\u001b[39m), \u001b[38;5;124m\"\u001b[39m\u001b[38;5;124mr\u001b[39m\u001b[38;5;124m\"\u001b[39m) \u001b[38;5;28;01mas\u001b[39;00m v:\n",
      "\u001b[0;31mFileNotFoundError\u001b[0m: Could not find Blackchirp data at /home/kncrabtree/github/blackchirp/src/python/example-data/mtbe-2"
     ]
    }
   ],
   "source": [
    "exp = BCExperiment('./example-data/mtbe/')\n",
    "\n",
    "exp.header"
   ]
  },
  {
   "cell_type": "markdown",
   "id": "f3f83c20-d185-4b0a-ad7d-1620cbfe1285",
   "metadata": {},
   "source": [
    "Just like in the `header.csv` file itself, each entry is associated with an `ObjKey` and a `ValueKey`, and in some cases also an `ArrayKey` and `ArrayIndex`. The combination of these 4 values can be used to select any particular row, as shown in more detail below. Each entry has a `Value` and `Units` associated with it.\n",
    "\n",
    "For such a large DataFrame, Jupyter notebooks typically compress the output. To get a brief overview of what information is available, use the `BCExperiment.header_unique_keys()` function, which returns a set containing the unique keys in the table."
   ]
  },
  {
   "cell_type": "code",
   "execution_count": null,
   "id": "c8961b2c-69fc-4e9e-8bcc-a6cb6ea804c5",
   "metadata": {
    "tags": []
   },
   "outputs": [],
   "source": [
    "exp.header_unique_keys?"
   ]
  },
  {
   "cell_type": "code",
   "execution_count": null,
   "id": "b00cd7cc-b254-46ef-b9fd-83c63e42320b",
   "metadata": {
    "tags": []
   },
   "outputs": [],
   "source": [
    "exp.header_unique_keys()"
   ]
  },
  {
   "cell_type": "markdown",
   "id": "a0a56c63-24e9-4f80-88d2-5a933b6c84cb",
   "metadata": {},
   "source": [
    "To view only data associated with one of these keys, use the `BCExperiment.header_rows()` function:"
   ]
  },
  {
   "cell_type": "code",
   "execution_count": null,
   "id": "923b8c01-b481-4b46-a47a-99e4c3d3fc18",
   "metadata": {
    "tags": []
   },
   "outputs": [],
   "source": [
    "exp.header_rows?"
   ]
  },
  {
   "cell_type": "markdown",
   "id": "a7e3890b-109a-4bb3-87dd-629ddc00bf2b",
   "metadata": {},
   "source": [
    "For instance, to obtain only the settings related to the Pulse Generator:"
   ]
  },
  {
   "cell_type": "code",
   "execution_count": null,
   "id": "5bea0198-a081-42a2-a7b5-350ca7895450",
   "metadata": {
    "tags": []
   },
   "outputs": [],
   "source": [
    "exp.header_rows('PulseGenerator.0')"
   ]
  },
  {
   "cell_type": "markdown",
   "id": "80646bc0-bcd3-46ed-9c5b-32d4606892e9",
   "metadata": {},
   "source": [
    "To see only the pulse widths:"
   ]
  },
  {
   "cell_type": "code",
   "execution_count": null,
   "id": "c6d728bc-7912-468d-bcb2-317a25b058f8",
   "metadata": {
    "tags": []
   },
   "outputs": [],
   "source": [
    "exp.header_rows('PulseGenerator.0','Width')"
   ]
  },
  {
   "cell_type": "markdown",
   "id": "67af9f30-9b6d-45af-a261-a473a78e23bc",
   "metadata": {},
   "source": [
    "And finally, the `BCExperiment.header_value()` function retrieves one particular value from the table. A corresponding `BCExperiment.header_unit()` function can be used to retrieve the unit, if desired. Note that the value is returned as a string, so it may need to be explicitly cast to an `int` or `float` if the value will be used in a calculation."
   ]
  },
  {
   "cell_type": "code",
   "execution_count": null,
   "id": "80aebf6d-0e4c-4fd6-8df6-a78f660ec28e",
   "metadata": {
    "tags": []
   },
   "outputs": [],
   "source": [
    "exp.header_value?"
   ]
  },
  {
   "cell_type": "code",
   "execution_count": null,
   "id": "4d69cdef-d2d7-4717-b6f6-8d999b25981c",
   "metadata": {
    "tags": []
   },
   "outputs": [],
   "source": [
    "exp.header_value('PulseGenerator.0','Width',3),exp.header_unit('PulseGenerator.0','Width',3)"
   ]
  },
  {
   "cell_type": "markdown",
   "id": "ca4f87cd-3906-4f6b-95d3-dea07900574f",
   "metadata": {},
   "source": [
    "Other csv files are similarly accessible."
   ]
  },
  {
   "cell_type": "code",
   "execution_count": null,
   "id": "977e2ac2-1970-4c14-bfa2-f3bcbec49c7b",
   "metadata": {
    "tags": []
   },
   "outputs": [],
   "source": [
    "exp.chirps"
   ]
  },
  {
   "cell_type": "markdown",
   "id": "51362013-b9c3-4083-94ee-a34f22beb019",
   "metadata": {},
   "source": [
    "## FID data and Fourier Transforms\n",
    "\n",
    "The CP-FTMW data for an experiment are stored in a BCFTMW object which is accessible as `BCExperiment.ftmw`. This object can be used to view data about the available FIDs and load them from disk. For a single FID acquisition like this, the FID is loaded with `BCFTMW.get_fid()`, which returns a `BCFid` object. The `BCFID.ft()` method computes the Fourier transform of that FID. As a quick example:"
   ]
  },
  {
   "cell_type": "code",
   "execution_count": null,
   "id": "cba12dba-bd9c-4c98-9f28-53a7f9b7ac85",
   "metadata": {},
   "outputs": [],
   "source": [
    "x,y = exp.ftmw.get_fid().ft()\n",
    "\n",
    "fig,ax = plt.subplots(figsize=(10,3))\n",
    "ax.plot(x,y)\n",
    "ax.set_xlabel('Frequency (MHz)')\n",
    "ax.set_xlim(26500,40000)"
   ]
  },
  {
   "cell_type": "markdown",
   "id": "1516b33b-a3fa-48c0-b6ca-ea21af214d43",
   "metadata": {},
   "source": [
    "Taking a step back, the FID itself can be stored and visualized. The FID itself has `BCFid.y()` and `BCFid.xy()` methods which return arrays containing the FID data in units of V, and in the latter case, also the time array in units of s. For this FID, the chirp takes place from roughly 0.75 - 3.75 μs."
   ]
  },
  {
   "cell_type": "code",
   "execution_count": null,
   "id": "51d46d02-5c06-4cce-8356-889c048bbac7",
   "metadata": {
    "tags": []
   },
   "outputs": [],
   "source": [
    "fid = exp.ftmw.get_fid()\n",
    "\n",
    "fidx, fidy = fid.xy()\n",
    "fig,ax = plt.subplots(figsize=(10,3))\n",
    "ax.plot(fidx*1e6,fidy,label=f'{int(fid.shots)} shots')\n",
    "ax.set_xlabel('Time (μs)')\n",
    "ax.set_ylabel('FID (V)')\n",
    "ax.legend(frameon=False)"
   ]
  },
  {
   "cell_type": "markdown",
   "id": "eed08bc4-f3b0-4464-8786-3408ceb85c72",
   "metadata": {},
   "source": [
    "At this point it is important to note that `fidy` is a 2D numpy array. The second axis corresponds to the frame number. In this acquisition, there is only 1 frame, but for an acquisition configured with multiple records this number may be larger. A single frame can then be selected by slicing (e.g., `fidy[:,3]`)."
   ]
  },
  {
   "cell_type": "code",
   "execution_count": null,
   "id": "2c37d39f-bfd5-4d6a-a0dd-4074fa1dda6e",
   "metadata": {},
   "outputs": [],
   "source": [
    "fidy.shape"
   ]
  },
  {
   "cell_type": "markdown",
   "id": "a1473552-5fa0-43ac-be21-85a66da8b7d8",
   "metadata": {},
   "source": [
    "The contents of the `fidparams.csv` file are available as an attribute of the `BCFTMW` object."
   ]
  },
  {
   "cell_type": "code",
   "execution_count": null,
   "id": "c25b5fa8-8517-4fbb-b365-46551275777b",
   "metadata": {},
   "outputs": [],
   "source": [
    "exp.ftmw.fidparams"
   ]
  },
  {
   "cell_type": "markdown",
   "id": "f4269ab0-e8a8-4fa0-9547-de6753313088",
   "metadata": {},
   "source": [
    "This experiment contains 2 FIDs: FID 0 is the final set of data and FID 1 was a backup that was taken 15 minutes into the acquisition. The `BCFTMW.get_fid()` function takes an optional argument that specifies the FID number to retrieve. We can therefore access the backup version with `get_fid(1)`. The code below loads the backup and plots its FT together with the total, showing the decrease in noise level with increasing shots."
   ]
  },
  {
   "cell_type": "code",
   "execution_count": null,
   "id": "7eed04f2-34a8-4156-a867-bf14d40c4e62",
   "metadata": {
    "tags": []
   },
   "outputs": [],
   "source": [
    "x2,y2 = exp.ftmw.get_fid(1).ft()\n",
    "fig,ax = plt.subplots(figsize=(10,3))\n",
    "ax.plot(x2,y2,label='FID 1')\n",
    "ax.plot(x,y,label='FID 0')\n",
    "ax.set_xlabel('Frequency (MHz)')\n",
    "ax.set_xlim(36000,36010)\n",
    "ax.set_ylim(0,0.15)\n",
    "ax.legend()"
   ]
  },
  {
   "cell_type": "markdown",
   "id": "25df6e19-e763-42c3-9d7a-561e1b3e900c",
   "metadata": {},
   "source": [
    "The `BCFid.ft()` function also allows for customizing the FID processing options like those in the Blackchirp program itself. The default values are read in from `processing.csv`, which is converted into a python dictionary named `proc` which is an attribute of `BCFTMW`. One notable difference in behavior: in the python module, points within \"AutoscaleMHz\" of the probe frequency are set to 0 to accommodate automatic autoscaling of the plot, while in Blackchirp itself those points are still shown but are not included when computing the vertical range of the FT."
   ]
  },
  {
   "cell_type": "code",
   "execution_count": null,
   "id": "b10b8a49-a82a-4519-9854-3db1855cd593",
   "metadata": {
    "tags": []
   },
   "outputs": [],
   "source": [
    "exp.ftmw.proc"
   ]
  },
  {
   "cell_type": "markdown",
   "id": "8754edcb-4a03-4f5e-bb58-4bd85398aced",
   "metadata": {},
   "source": [
    "The `BCFid.ft()` function allows for any of these settings to be overridden."
   ]
  },
  {
   "cell_type": "code",
   "execution_count": null,
   "id": "adc1500d-00d2-4f67-bb7f-e49945bfa2d4",
   "metadata": {
    "tags": []
   },
   "outputs": [],
   "source": [
    "fid.ft?"
   ]
  },
  {
   "cell_type": "markdown",
   "id": "0b398568-3add-49b8-9c10-8fad43e9b720",
   "metadata": {},
   "source": [
    "For example, to apply an exponential filter and compare with the original data:"
   ]
  },
  {
   "cell_type": "code",
   "execution_count": null,
   "id": "7c785fec-0180-417c-9e1f-4a179e8c61ce",
   "metadata": {
    "tags": []
   },
   "outputs": [],
   "source": [
    "expf = 5.0\n",
    "x3,y3 = exp.ftmw.get_fid().ft(expf_us=expf)\n",
    "\n",
    "fig,axes = plt.subplots(2,1,figsize=(10,6))\n",
    "for ax in axes:\n",
    "    ax.plot(x,y,label='No filter')\n",
    "    ax.plot(x3,y3,label=f'expf = {expf:.2f} μs')\n",
    "axes[0].set_xlim(26500,40000)\n",
    "axes[1].set_xlim(34600,34610)\n",
    "axes[1].set_ylim(0,3.5)\n",
    "axes[0].legend()\n",
    "axes[1].set_xlabel('Frequency (MHz)')"
   ]
  },
  {
   "cell_type": "markdown",
   "id": "94683f78-4e25-474e-82be-fa35c81ab8ec",
   "metadata": {
    "tags": []
   },
   "source": [
    "A greater variety of window functions is available in the Python module compared with Blackchirp. The `winf` parameter can be set to any value supported by [scipy.signal.get_window](https://docs.scipy.org/doc/scipy/reference/generated/scipy.signal.get_window.html). For example, a generalized Gaussian window with variable p and σ parameters can be used by passing a tuple with the window name and parameter values:"
   ]
  },
  {
   "cell_type": "code",
   "execution_count": null,
   "id": "a5aeb8bf-4099-4ef6-aae9-2aa222636bd7",
   "metadata": {
    "tags": []
   },
   "outputs": [],
   "source": [
    "p = 1.5\n",
    "sigma = len(fid)//5\n",
    "x4,y4 = fid.ft(winf=('general_gaussian',p,sigma))\n",
    "\n",
    "fig,axes = plt.subplots(2,1,figsize=(10,6))\n",
    "for ax in axes:\n",
    "    ax.plot(x,y,label='No window')\n",
    "    ax.plot(x4,y4,label=f'Gaussian window (p={p:.2f},σ={int(sigma)})')\n",
    "axes[0].set_xlim(26500,40000)\n",
    "axes[1].set_xlim(34600,34610)\n",
    "axes[1].set_ylim(0,3.5)\n",
    "axes[0].legend()\n",
    "axes[1].set_xlabel('Frequency (MHz)')"
   ]
  },
  {
   "cell_type": "markdown",
   "id": "2f734705-5095-4b21-9151-21d16f712a3a",
   "metadata": {},
   "source": [
    "Like the FID, the FT y array is 2-dimensional, where the second axis corresponds to the frame number. By default, the FT is applied to all frames at once; if only a single frame is desired, pass its index as the `frame` parameter."
   ]
  },
  {
   "cell_type": "code",
   "execution_count": null,
   "id": "3a96678a-55a4-4260-8d3b-3f2f7abfe16c",
   "metadata": {
    "tags": []
   },
   "outputs": [],
   "source": [
    "y.shape"
   ]
  },
  {
   "cell_type": "code",
   "execution_count": null,
   "id": "91452a1f-2b07-4b8c-a680-2843aaa50cb6",
   "metadata": {},
   "outputs": [],
   "source": []
  }
 ],
 "metadata": {
  "kernelspec": {
   "display_name": "Python 3 (ipykernel)",
   "language": "python",
   "name": "python3"
  },
  "language_info": {
   "codemirror_mode": {
    "name": "ipython",
    "version": 3
   },
   "file_extension": ".py",
   "mimetype": "text/x-python",
   "name": "python",
   "nbconvert_exporter": "python",
   "pygments_lexer": "ipython3",
   "version": "3.9.16"
  }
 },
 "nbformat": 4,
 "nbformat_minor": 5
}
