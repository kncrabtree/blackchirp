{
 "cells": [
  {
   "cell_type": "markdown",
   "id": "5be347e5-84b3-4c23-a560-1553c271f9cb",
   "metadata": {
    "tags": []
   },
   "source": [
    "# Single FID Example\n",
    "\n",
    "This example shows an overview of the basic functionality of the Blackchirp python module. It uses data acquired using the UC Davis Ka band (26.5 - 40 GHz) CP-FTMW spectrometer.\n",
    "\n",
    "To get started, first ensure that the module has been installed with `pip install blackchirp`. It is recommended to import the main blackchirp classes with `from blackchirp import *`. The cell below is configured to import from the development version of the module if this example notebook is run from the blackchirp source directory.\n"
   ]
  },
  {
   "cell_type": "code",
   "execution_count": 1,
   "id": "2cc40943-f682-4598-b3c4-f4bdd2660d16",
   "metadata": {
    "tags": []
   },
   "outputs": [],
   "source": [
    "from blackchirp.src.blackchirp import * # replace with from blackchirp import *\n",
    "from matplotlib import pyplot as plt"
   ]
  },
  {
   "cell_type": "markdown",
   "id": "0ee20db2-70ef-42b2-8218-8bb3ed0468e1",
   "metadata": {},
   "source": [
    "## Loading and Inspecting an Experiment\n",
    "\n",
    "In this example, we will use a CP-FTMW spectrum of methyl tert-butyl ether, which is assumed to be in the directory `example-data/mtbe`. This directory contains the contents of the Blackchirp data, which was copied from the original data storage location."
   ]
  },
  {
   "cell_type": "code",
   "execution_count": 2,
   "id": "4080c265-25ea-4fa3-81d0-88e4963cde9b",
   "metadata": {
    "tags": []
   },
   "outputs": [
    {
     "name": "stdout",
     "output_type": "stream",
     "text": [
      "total 36\n",
      "-rw-r--r-- 1 kncrabtree  845 Dec 19 14:47 \u001b[0m\u001b[00mauxdata.csv\u001b[0m\n",
      "-rw-r--r-- 1 kncrabtree  333 Dec 19 14:47 \u001b[00mchirps.csv\u001b[0m\n",
      "-rw-r--r-- 1 kncrabtree  103 Dec 19 14:47 \u001b[00mclocks.csv\u001b[0m\n",
      "drwxr-xr-x 2 kncrabtree 4096 May 17 11:05 \u001b[01;34mfid\u001b[0m/\n",
      "-rw-r--r-- 1 kncrabtree  109 May 17 11:09 \u001b[00mhardware.csv\u001b[0m\n",
      "-rw-r--r-- 1 kncrabtree 3601 May 17 11:09 \u001b[00mheader.csv\u001b[0m\n",
      "-rw-r--r-- 1 kncrabtree  183 Dec 19 14:47 \u001b[00mlog.csv\u001b[0m\n",
      "-rw-r--r-- 1 kncrabtree   21 Dec 19 14:47 \u001b[00mobjectives.csv\u001b[0m\n",
      "-rw-r--r-- 1 kncrabtree  119 Dec 19 14:47 \u001b[00mversion.csv\u001b[0m\n"
     ]
    }
   ],
   "source": [
    "ll example-data/mtbe/"
   ]
  },
  {
   "cell_type": "markdown",
   "id": "b4861ec1-1f78-4548-a418-63b0715aff32",
   "metadata": {},
   "source": [
    "The `BCExperiment` class is used to read in these files and construct python objects for them. Since all Blackchirp data is written in CSV format, the files are read in using `pandas.read_csv` and are available as pandas `DataFrame` objects with the same name as the corresponding CSV file. To load an experiment, pass the appropriate path to `BCExperiment`. This path should be the folder which contains the `version.csv` file for the desired experiment. Once loaded, the contents of the csv files may be inspected easily. Here we show the header."
   ]
  },
  {
   "cell_type": "code",
   "execution_count": 3,
   "id": "07505926-52a0-44b3-8510-8842f6db49ff",
   "metadata": {},
   "outputs": [
    {
     "data": {
      "text/html": [
       "<div>\n",
       "<style scoped>\n",
       "    .dataframe tbody tr th:only-of-type {\n",
       "        vertical-align: middle;\n",
       "    }\n",
       "\n",
       "    .dataframe tbody tr th {\n",
       "        vertical-align: top;\n",
       "    }\n",
       "\n",
       "    .dataframe thead th {\n",
       "        text-align: right;\n",
       "    }\n",
       "</style>\n",
       "<table border=\"1\" class=\"dataframe\">\n",
       "  <thead>\n",
       "    <tr style=\"text-align: right;\">\n",
       "      <th></th>\n",
       "      <th>ObjKey</th>\n",
       "      <th>ArrayKey</th>\n",
       "      <th>ArrayIndex</th>\n",
       "      <th>ValueKey</th>\n",
       "      <th>Value</th>\n",
       "      <th>Units</th>\n",
       "    </tr>\n",
       "  </thead>\n",
       "  <tbody>\n",
       "    <tr>\n",
       "      <th>0</th>\n",
       "      <td>ChirpConfig</td>\n",
       "      <td>NaN</td>\n",
       "      <td>&lt;NA&gt;</td>\n",
       "      <td>ChirpInterval</td>\n",
       "      <td>20</td>\n",
       "      <td>μs</td>\n",
       "    </tr>\n",
       "    <tr>\n",
       "      <th>1</th>\n",
       "      <td>ChirpConfig</td>\n",
       "      <td>NaN</td>\n",
       "      <td>&lt;NA&gt;</td>\n",
       "      <td>PostGate</td>\n",
       "      <td>-0.17</td>\n",
       "      <td>μs</td>\n",
       "    </tr>\n",
       "    <tr>\n",
       "      <th>2</th>\n",
       "      <td>ChirpConfig</td>\n",
       "      <td>NaN</td>\n",
       "      <td>&lt;NA&gt;</td>\n",
       "      <td>PostProtection</td>\n",
       "      <td>0.15</td>\n",
       "      <td>μs</td>\n",
       "    </tr>\n",
       "    <tr>\n",
       "      <th>3</th>\n",
       "      <td>ChirpConfig</td>\n",
       "      <td>NaN</td>\n",
       "      <td>&lt;NA&gt;</td>\n",
       "      <td>PreGate</td>\n",
       "      <td>0.5</td>\n",
       "      <td>μs</td>\n",
       "    </tr>\n",
       "    <tr>\n",
       "      <th>4</th>\n",
       "      <td>ChirpConfig</td>\n",
       "      <td>NaN</td>\n",
       "      <td>&lt;NA&gt;</td>\n",
       "      <td>PreProtection</td>\n",
       "      <td>0.1</td>\n",
       "      <td>μs</td>\n",
       "    </tr>\n",
       "    <tr>\n",
       "      <th>...</th>\n",
       "      <td>...</td>\n",
       "      <td>...</td>\n",
       "      <td>...</td>\n",
       "      <td>...</td>\n",
       "      <td>...</td>\n",
       "      <td>...</td>\n",
       "    </tr>\n",
       "    <tr>\n",
       "      <th>86</th>\n",
       "      <td>RfConfig</td>\n",
       "      <td>NaN</td>\n",
       "      <td>&lt;NA&gt;</td>\n",
       "      <td>CommonUpDownLO</td>\n",
       "      <td>false</td>\n",
       "      <td>NaN</td>\n",
       "    </tr>\n",
       "    <tr>\n",
       "      <th>87</th>\n",
       "      <td>RfConfig</td>\n",
       "      <td>NaN</td>\n",
       "      <td>&lt;NA&gt;</td>\n",
       "      <td>DownconversionSideband</td>\n",
       "      <td>LowerSideband</td>\n",
       "      <td>NaN</td>\n",
       "    </tr>\n",
       "    <tr>\n",
       "      <th>88</th>\n",
       "      <td>RfConfig</td>\n",
       "      <td>NaN</td>\n",
       "      <td>&lt;NA&gt;</td>\n",
       "      <td>ShotsPerClockConfig</td>\n",
       "      <td>0</td>\n",
       "      <td>NaN</td>\n",
       "    </tr>\n",
       "    <tr>\n",
       "      <th>89</th>\n",
       "      <td>RfConfig</td>\n",
       "      <td>NaN</td>\n",
       "      <td>&lt;NA&gt;</td>\n",
       "      <td>TargetSweeps</td>\n",
       "      <td>1</td>\n",
       "      <td>NaN</td>\n",
       "    </tr>\n",
       "    <tr>\n",
       "      <th>90</th>\n",
       "      <td>RfConfig</td>\n",
       "      <td>NaN</td>\n",
       "      <td>&lt;NA&gt;</td>\n",
       "      <td>UpconversionSideband</td>\n",
       "      <td>LowerSideband</td>\n",
       "      <td>NaN</td>\n",
       "    </tr>\n",
       "  </tbody>\n",
       "</table>\n",
       "<p>91 rows × 6 columns</p>\n",
       "</div>"
      ],
      "text/plain": [
       "         ObjKey ArrayKey  ArrayIndex                ValueKey          Value  \\\n",
       "0   ChirpConfig      NaN        <NA>           ChirpInterval             20   \n",
       "1   ChirpConfig      NaN        <NA>                PostGate          -0.17   \n",
       "2   ChirpConfig      NaN        <NA>          PostProtection           0.15   \n",
       "3   ChirpConfig      NaN        <NA>                 PreGate            0.5   \n",
       "4   ChirpConfig      NaN        <NA>           PreProtection            0.1   \n",
       "..          ...      ...         ...                     ...            ...   \n",
       "86     RfConfig      NaN        <NA>          CommonUpDownLO          false   \n",
       "87     RfConfig      NaN        <NA>  DownconversionSideband  LowerSideband   \n",
       "88     RfConfig      NaN        <NA>     ShotsPerClockConfig              0   \n",
       "89     RfConfig      NaN        <NA>            TargetSweeps              1   \n",
       "90     RfConfig      NaN        <NA>    UpconversionSideband  LowerSideband   \n",
       "\n",
       "   Units  \n",
       "0     μs  \n",
       "1     μs  \n",
       "2     μs  \n",
       "3     μs  \n",
       "4     μs  \n",
       "..   ...  \n",
       "86   NaN  \n",
       "87   NaN  \n",
       "88   NaN  \n",
       "89   NaN  \n",
       "90   NaN  \n",
       "\n",
       "[91 rows x 6 columns]"
      ]
     },
     "execution_count": 3,
     "metadata": {},
     "output_type": "execute_result"
    }
   ],
   "source": [
    "exp = BCExperiment('./example-data/mtbe/')\n",
    "\n",
    "exp.header"
   ]
  },
  {
   "cell_type": "markdown",
   "id": "f3f83c20-d185-4b0a-ad7d-1620cbfe1285",
   "metadata": {},
   "source": [
    "Just like in the `header.csv` file itself, each entry is associated with an `ObjKey` and a `ValueKey`, and in some cases also an `ArrayKey` and `ArrayIndex`. The combination of these 4 values can be used to select any particular row, as shown in more detail below. Each entry has a `Value` and `Units` associated with it.\n",
    "\n",
    "For such a large DataFrame, Jupyter notebooks typically compress the output. To get a brief overview of what information is available, use the `BCExperiment.header_unique_keys()` function, which returns a set containing the unique keys in the table."
   ]
  },
  {
   "cell_type": "code",
   "execution_count": 4,
   "id": "c8961b2c-69fc-4e9e-8bcc-a6cb6ea804c5",
   "metadata": {
    "tags": []
   },
   "outputs": [
    {
     "data": {
      "text/plain": [
       "\u001b[0;31mSignature:\u001b[0m \u001b[0mexp\u001b[0m\u001b[0;34m.\u001b[0m\u001b[0mheader_unique_keys\u001b[0m\u001b[0;34m(\u001b[0m\u001b[0;34m)\u001b[0m \u001b[0;34m->\u001b[0m \u001b[0;34m'set[str]'\u001b[0m\u001b[0;34m\u001b[0m\u001b[0;34m\u001b[0m\u001b[0m\n",
       "\u001b[0;31mDocstring:\u001b[0m\n",
       "Fetch all unique ObjKeys in experiment header\n",
       "\n",
       "Returns:\n",
       "    List of unique header keys\n",
       "\u001b[0;31mFile:\u001b[0m      ~/github/blackchirp/src/python/blackchirp/src/blackchirp/blackchirpexperiment.py\n",
       "\u001b[0;31mType:\u001b[0m      method"
      ]
     },
     "metadata": {},
     "output_type": "display_data"
    }
   ],
   "source": [
    "exp.header_unique_keys?"
   ]
  },
  {
   "cell_type": "code",
   "execution_count": 5,
   "id": "b00cd7cc-b254-46ef-b9fd-83c63e42320b",
   "metadata": {
    "tags": []
   },
   "outputs": [
    {
     "data": {
      "text/plain": [
       "{'ChirpConfig',\n",
       " 'Experiment',\n",
       " 'FtmwConfig',\n",
       " 'FtmwDigitizer.0',\n",
       " 'PulseGenerator.0',\n",
       " 'RfConfig'}"
      ]
     },
     "execution_count": 5,
     "metadata": {},
     "output_type": "execute_result"
    }
   ],
   "source": [
    "exp.header_unique_keys()"
   ]
  },
  {
   "cell_type": "markdown",
   "id": "a0a56c63-24e9-4f80-88d2-5a933b6c84cb",
   "metadata": {},
   "source": [
    "To view only data associated with one of these keys, use the `BCExperiment.header_rows()` function:"
   ]
  },
  {
   "cell_type": "code",
   "execution_count": 6,
   "id": "923b8c01-b481-4b46-a47a-99e4c3d3fc18",
   "metadata": {
    "tags": []
   },
   "outputs": [
    {
     "data": {
      "text/plain": [
       "\u001b[0;31mSignature:\u001b[0m\n",
       "\u001b[0mexp\u001b[0m\u001b[0;34m.\u001b[0m\u001b[0mheader_rows\u001b[0m\u001b[0;34m(\u001b[0m\u001b[0;34m\u001b[0m\n",
       "\u001b[0;34m\u001b[0m    \u001b[0mobjKey\u001b[0m\u001b[0;34m:\u001b[0m \u001b[0;34m'str'\u001b[0m \u001b[0;34m=\u001b[0m \u001b[0;32mNone\u001b[0m\u001b[0;34m,\u001b[0m\u001b[0;34m\u001b[0m\n",
       "\u001b[0;34m\u001b[0m    \u001b[0mvalKey\u001b[0m\u001b[0;34m:\u001b[0m \u001b[0;34m'str'\u001b[0m \u001b[0;34m=\u001b[0m \u001b[0;32mNone\u001b[0m\u001b[0;34m,\u001b[0m\u001b[0;34m\u001b[0m\n",
       "\u001b[0;34m\u001b[0m    \u001b[0marrKey\u001b[0m\u001b[0;34m:\u001b[0m \u001b[0;34m'str'\u001b[0m \u001b[0;34m=\u001b[0m \u001b[0;32mNone\u001b[0m\u001b[0;34m,\u001b[0m\u001b[0;34m\u001b[0m\n",
       "\u001b[0;34m\u001b[0m\u001b[0;34m)\u001b[0m \u001b[0;34m->\u001b[0m \u001b[0;34m'pd.DataFrame'\u001b[0m\u001b[0;34m\u001b[0m\u001b[0;34m\u001b[0m\u001b[0m\n",
       "\u001b[0;31mDocstring:\u001b[0m\n",
       "Fetch rows from the header file matching conditions\n",
       "\n",
       "Filters rows in the header according to ObjKey, ValueKey, and ArrayKey.\n",
       "Any combination of these (or none) may be specified to filter.\n",
       "\n",
       "Args:\n",
       "    objKey: Object key in header\n",
       "    valKey: Value key in header\n",
       "    arrKey: Array key in header\n",
       "\n",
       "Returns:\n",
       "    DataFrame with matching wors\n",
       "\u001b[0;31mFile:\u001b[0m      ~/github/blackchirp/src/python/blackchirp/src/blackchirp/blackchirpexperiment.py\n",
       "\u001b[0;31mType:\u001b[0m      method"
      ]
     },
     "metadata": {},
     "output_type": "display_data"
    }
   ],
   "source": [
    "exp.header_rows?"
   ]
  },
  {
   "cell_type": "markdown",
   "id": "a7e3890b-109a-4bb3-87dd-629ddc00bf2b",
   "metadata": {},
   "source": [
    "For instance, to obtain only the settings related to the Pulse Generator:"
   ]
  },
  {
   "cell_type": "code",
   "execution_count": 7,
   "id": "5bea0198-a081-42a2-a7b5-350ca7895450",
   "metadata": {
    "tags": []
   },
   "outputs": [
    {
     "data": {
      "text/html": [
       "<div>\n",
       "<style scoped>\n",
       "    .dataframe tbody tr th:only-of-type {\n",
       "        vertical-align: middle;\n",
       "    }\n",
       "\n",
       "    .dataframe tbody tr th {\n",
       "        vertical-align: top;\n",
       "    }\n",
       "\n",
       "    .dataframe thead th {\n",
       "        text-align: right;\n",
       "    }\n",
       "</style>\n",
       "<table border=\"1\" class=\"dataframe\">\n",
       "  <thead>\n",
       "    <tr style=\"text-align: right;\">\n",
       "      <th></th>\n",
       "      <th>ObjKey</th>\n",
       "      <th>ArrayKey</th>\n",
       "      <th>ArrayIndex</th>\n",
       "      <th>ValueKey</th>\n",
       "      <th>Value</th>\n",
       "      <th>Units</th>\n",
       "    </tr>\n",
       "  </thead>\n",
       "  <tbody>\n",
       "    <tr>\n",
       "      <th>35</th>\n",
       "      <td>PulseGenerator.0</td>\n",
       "      <td>NaN</td>\n",
       "      <td>&lt;NA&gt;</td>\n",
       "      <td>RepRate</td>\n",
       "      <td>10</td>\n",
       "      <td>Hz</td>\n",
       "    </tr>\n",
       "    <tr>\n",
       "      <th>36</th>\n",
       "      <td>PulseGenerator.0</td>\n",
       "      <td>Channel</td>\n",
       "      <td>0</td>\n",
       "      <td>ActiveLevel</td>\n",
       "      <td>ActiveHigh</td>\n",
       "      <td>NaN</td>\n",
       "    </tr>\n",
       "    <tr>\n",
       "      <th>37</th>\n",
       "      <td>PulseGenerator.0</td>\n",
       "      <td>Channel</td>\n",
       "      <td>0</td>\n",
       "      <td>Delay</td>\n",
       "      <td>0</td>\n",
       "      <td>μs</td>\n",
       "    </tr>\n",
       "    <tr>\n",
       "      <th>38</th>\n",
       "      <td>PulseGenerator.0</td>\n",
       "      <td>Channel</td>\n",
       "      <td>0</td>\n",
       "      <td>Enabled</td>\n",
       "      <td>true</td>\n",
       "      <td>NaN</td>\n",
       "    </tr>\n",
       "    <tr>\n",
       "      <th>39</th>\n",
       "      <td>PulseGenerator.0</td>\n",
       "      <td>Channel</td>\n",
       "      <td>0</td>\n",
       "      <td>Name</td>\n",
       "      <td>Gas</td>\n",
       "      <td>NaN</td>\n",
       "    </tr>\n",
       "    <tr>\n",
       "      <th>40</th>\n",
       "      <td>PulseGenerator.0</td>\n",
       "      <td>Channel</td>\n",
       "      <td>0</td>\n",
       "      <td>Role</td>\n",
       "      <td>Gas</td>\n",
       "      <td>NaN</td>\n",
       "    </tr>\n",
       "    <tr>\n",
       "      <th>41</th>\n",
       "      <td>PulseGenerator.0</td>\n",
       "      <td>Channel</td>\n",
       "      <td>0</td>\n",
       "      <td>Width</td>\n",
       "      <td>650</td>\n",
       "      <td>μs</td>\n",
       "    </tr>\n",
       "    <tr>\n",
       "      <th>42</th>\n",
       "      <td>PulseGenerator.0</td>\n",
       "      <td>Channel</td>\n",
       "      <td>1</td>\n",
       "      <td>ActiveLevel</td>\n",
       "      <td>ActiveHigh</td>\n",
       "      <td>NaN</td>\n",
       "    </tr>\n",
       "    <tr>\n",
       "      <th>43</th>\n",
       "      <td>PulseGenerator.0</td>\n",
       "      <td>Channel</td>\n",
       "      <td>1</td>\n",
       "      <td>Delay</td>\n",
       "      <td>0</td>\n",
       "      <td>μs</td>\n",
       "    </tr>\n",
       "    <tr>\n",
       "      <th>44</th>\n",
       "      <td>PulseGenerator.0</td>\n",
       "      <td>Channel</td>\n",
       "      <td>1</td>\n",
       "      <td>Enabled</td>\n",
       "      <td>false</td>\n",
       "      <td>NaN</td>\n",
       "    </tr>\n",
       "    <tr>\n",
       "      <th>45</th>\n",
       "      <td>PulseGenerator.0</td>\n",
       "      <td>Channel</td>\n",
       "      <td>1</td>\n",
       "      <td>Name</td>\n",
       "      <td>DC</td>\n",
       "      <td>NaN</td>\n",
       "    </tr>\n",
       "    <tr>\n",
       "      <th>46</th>\n",
       "      <td>PulseGenerator.0</td>\n",
       "      <td>Channel</td>\n",
       "      <td>1</td>\n",
       "      <td>Role</td>\n",
       "      <td>DC</td>\n",
       "      <td>NaN</td>\n",
       "    </tr>\n",
       "    <tr>\n",
       "      <th>47</th>\n",
       "      <td>PulseGenerator.0</td>\n",
       "      <td>Channel</td>\n",
       "      <td>1</td>\n",
       "      <td>Width</td>\n",
       "      <td>160</td>\n",
       "      <td>μs</td>\n",
       "    </tr>\n",
       "    <tr>\n",
       "      <th>48</th>\n",
       "      <td>PulseGenerator.0</td>\n",
       "      <td>Channel</td>\n",
       "      <td>2</td>\n",
       "      <td>ActiveLevel</td>\n",
       "      <td>ActiveHigh</td>\n",
       "      <td>NaN</td>\n",
       "    </tr>\n",
       "    <tr>\n",
       "      <th>49</th>\n",
       "      <td>PulseGenerator.0</td>\n",
       "      <td>Channel</td>\n",
       "      <td>2</td>\n",
       "      <td>Delay</td>\n",
       "      <td>1300</td>\n",
       "      <td>μs</td>\n",
       "    </tr>\n",
       "    <tr>\n",
       "      <th>50</th>\n",
       "      <td>PulseGenerator.0</td>\n",
       "      <td>Channel</td>\n",
       "      <td>2</td>\n",
       "      <td>Enabled</td>\n",
       "      <td>true</td>\n",
       "      <td>NaN</td>\n",
       "    </tr>\n",
       "    <tr>\n",
       "      <th>51</th>\n",
       "      <td>PulseGenerator.0</td>\n",
       "      <td>Channel</td>\n",
       "      <td>2</td>\n",
       "      <td>Name</td>\n",
       "      <td>AWG</td>\n",
       "      <td>NaN</td>\n",
       "    </tr>\n",
       "    <tr>\n",
       "      <th>52</th>\n",
       "      <td>PulseGenerator.0</td>\n",
       "      <td>Channel</td>\n",
       "      <td>2</td>\n",
       "      <td>Role</td>\n",
       "      <td>AWG</td>\n",
       "      <td>NaN</td>\n",
       "    </tr>\n",
       "    <tr>\n",
       "      <th>53</th>\n",
       "      <td>PulseGenerator.0</td>\n",
       "      <td>Channel</td>\n",
       "      <td>2</td>\n",
       "      <td>Width</td>\n",
       "      <td>100</td>\n",
       "      <td>μs</td>\n",
       "    </tr>\n",
       "    <tr>\n",
       "      <th>54</th>\n",
       "      <td>PulseGenerator.0</td>\n",
       "      <td>Channel</td>\n",
       "      <td>3</td>\n",
       "      <td>ActiveLevel</td>\n",
       "      <td>ActiveHigh</td>\n",
       "      <td>NaN</td>\n",
       "    </tr>\n",
       "    <tr>\n",
       "      <th>55</th>\n",
       "      <td>PulseGenerator.0</td>\n",
       "      <td>Channel</td>\n",
       "      <td>3</td>\n",
       "      <td>Delay</td>\n",
       "      <td>200.5</td>\n",
       "      <td>μs</td>\n",
       "    </tr>\n",
       "    <tr>\n",
       "      <th>56</th>\n",
       "      <td>PulseGenerator.0</td>\n",
       "      <td>Channel</td>\n",
       "      <td>3</td>\n",
       "      <td>Enabled</td>\n",
       "      <td>false</td>\n",
       "      <td>NaN</td>\n",
       "    </tr>\n",
       "    <tr>\n",
       "      <th>57</th>\n",
       "      <td>PulseGenerator.0</td>\n",
       "      <td>Channel</td>\n",
       "      <td>3</td>\n",
       "      <td>Name</td>\n",
       "      <td>Ch4</td>\n",
       "      <td>NaN</td>\n",
       "    </tr>\n",
       "    <tr>\n",
       "      <th>58</th>\n",
       "      <td>PulseGenerator.0</td>\n",
       "      <td>Channel</td>\n",
       "      <td>3</td>\n",
       "      <td>Role</td>\n",
       "      <td>NaN</td>\n",
       "      <td>NaN</td>\n",
       "    </tr>\n",
       "    <tr>\n",
       "      <th>59</th>\n",
       "      <td>PulseGenerator.0</td>\n",
       "      <td>Channel</td>\n",
       "      <td>3</td>\n",
       "      <td>Width</td>\n",
       "      <td>2.019</td>\n",
       "      <td>μs</td>\n",
       "    </tr>\n",
       "    <tr>\n",
       "      <th>60</th>\n",
       "      <td>PulseGenerator.0</td>\n",
       "      <td>Channel</td>\n",
       "      <td>4</td>\n",
       "      <td>ActiveLevel</td>\n",
       "      <td>ActiveHigh</td>\n",
       "      <td>NaN</td>\n",
       "    </tr>\n",
       "    <tr>\n",
       "      <th>61</th>\n",
       "      <td>PulseGenerator.0</td>\n",
       "      <td>Channel</td>\n",
       "      <td>4</td>\n",
       "      <td>Delay</td>\n",
       "      <td>0</td>\n",
       "      <td>μs</td>\n",
       "    </tr>\n",
       "    <tr>\n",
       "      <th>62</th>\n",
       "      <td>PulseGenerator.0</td>\n",
       "      <td>Channel</td>\n",
       "      <td>4</td>\n",
       "      <td>Enabled</td>\n",
       "      <td>false</td>\n",
       "      <td>NaN</td>\n",
       "    </tr>\n",
       "    <tr>\n",
       "      <th>63</th>\n",
       "      <td>PulseGenerator.0</td>\n",
       "      <td>Channel</td>\n",
       "      <td>4</td>\n",
       "      <td>Name</td>\n",
       "      <td>Ch5</td>\n",
       "      <td>NaN</td>\n",
       "    </tr>\n",
       "    <tr>\n",
       "      <th>64</th>\n",
       "      <td>PulseGenerator.0</td>\n",
       "      <td>Channel</td>\n",
       "      <td>4</td>\n",
       "      <td>Role</td>\n",
       "      <td>NaN</td>\n",
       "      <td>NaN</td>\n",
       "    </tr>\n",
       "    <tr>\n",
       "      <th>65</th>\n",
       "      <td>PulseGenerator.0</td>\n",
       "      <td>Channel</td>\n",
       "      <td>4</td>\n",
       "      <td>Width</td>\n",
       "      <td>1</td>\n",
       "      <td>μs</td>\n",
       "    </tr>\n",
       "    <tr>\n",
       "      <th>66</th>\n",
       "      <td>PulseGenerator.0</td>\n",
       "      <td>Channel</td>\n",
       "      <td>5</td>\n",
       "      <td>ActiveLevel</td>\n",
       "      <td>ActiveHigh</td>\n",
       "      <td>NaN</td>\n",
       "    </tr>\n",
       "    <tr>\n",
       "      <th>67</th>\n",
       "      <td>PulseGenerator.0</td>\n",
       "      <td>Channel</td>\n",
       "      <td>5</td>\n",
       "      <td>Delay</td>\n",
       "      <td>0</td>\n",
       "      <td>μs</td>\n",
       "    </tr>\n",
       "    <tr>\n",
       "      <th>68</th>\n",
       "      <td>PulseGenerator.0</td>\n",
       "      <td>Channel</td>\n",
       "      <td>5</td>\n",
       "      <td>Enabled</td>\n",
       "      <td>false</td>\n",
       "      <td>NaN</td>\n",
       "    </tr>\n",
       "    <tr>\n",
       "      <th>69</th>\n",
       "      <td>PulseGenerator.0</td>\n",
       "      <td>Channel</td>\n",
       "      <td>5</td>\n",
       "      <td>Name</td>\n",
       "      <td>Ch6</td>\n",
       "      <td>NaN</td>\n",
       "    </tr>\n",
       "    <tr>\n",
       "      <th>70</th>\n",
       "      <td>PulseGenerator.0</td>\n",
       "      <td>Channel</td>\n",
       "      <td>5</td>\n",
       "      <td>Role</td>\n",
       "      <td>NaN</td>\n",
       "      <td>NaN</td>\n",
       "    </tr>\n",
       "    <tr>\n",
       "      <th>71</th>\n",
       "      <td>PulseGenerator.0</td>\n",
       "      <td>Channel</td>\n",
       "      <td>5</td>\n",
       "      <td>Width</td>\n",
       "      <td>1</td>\n",
       "      <td>μs</td>\n",
       "    </tr>\n",
       "    <tr>\n",
       "      <th>72</th>\n",
       "      <td>PulseGenerator.0</td>\n",
       "      <td>Channel</td>\n",
       "      <td>6</td>\n",
       "      <td>ActiveLevel</td>\n",
       "      <td>ActiveHigh</td>\n",
       "      <td>NaN</td>\n",
       "    </tr>\n",
       "    <tr>\n",
       "      <th>73</th>\n",
       "      <td>PulseGenerator.0</td>\n",
       "      <td>Channel</td>\n",
       "      <td>6</td>\n",
       "      <td>Delay</td>\n",
       "      <td>0</td>\n",
       "      <td>μs</td>\n",
       "    </tr>\n",
       "    <tr>\n",
       "      <th>74</th>\n",
       "      <td>PulseGenerator.0</td>\n",
       "      <td>Channel</td>\n",
       "      <td>6</td>\n",
       "      <td>Enabled</td>\n",
       "      <td>false</td>\n",
       "      <td>NaN</td>\n",
       "    </tr>\n",
       "    <tr>\n",
       "      <th>75</th>\n",
       "      <td>PulseGenerator.0</td>\n",
       "      <td>Channel</td>\n",
       "      <td>6</td>\n",
       "      <td>Name</td>\n",
       "      <td>Ch7</td>\n",
       "      <td>NaN</td>\n",
       "    </tr>\n",
       "    <tr>\n",
       "      <th>76</th>\n",
       "      <td>PulseGenerator.0</td>\n",
       "      <td>Channel</td>\n",
       "      <td>6</td>\n",
       "      <td>Role</td>\n",
       "      <td>NaN</td>\n",
       "      <td>NaN</td>\n",
       "    </tr>\n",
       "    <tr>\n",
       "      <th>77</th>\n",
       "      <td>PulseGenerator.0</td>\n",
       "      <td>Channel</td>\n",
       "      <td>6</td>\n",
       "      <td>Width</td>\n",
       "      <td>1</td>\n",
       "      <td>μs</td>\n",
       "    </tr>\n",
       "    <tr>\n",
       "      <th>78</th>\n",
       "      <td>PulseGenerator.0</td>\n",
       "      <td>Channel</td>\n",
       "      <td>7</td>\n",
       "      <td>ActiveLevel</td>\n",
       "      <td>ActiveHigh</td>\n",
       "      <td>NaN</td>\n",
       "    </tr>\n",
       "    <tr>\n",
       "      <th>79</th>\n",
       "      <td>PulseGenerator.0</td>\n",
       "      <td>Channel</td>\n",
       "      <td>7</td>\n",
       "      <td>Delay</td>\n",
       "      <td>0</td>\n",
       "      <td>μs</td>\n",
       "    </tr>\n",
       "    <tr>\n",
       "      <th>80</th>\n",
       "      <td>PulseGenerator.0</td>\n",
       "      <td>Channel</td>\n",
       "      <td>7</td>\n",
       "      <td>Enabled</td>\n",
       "      <td>false</td>\n",
       "      <td>NaN</td>\n",
       "    </tr>\n",
       "    <tr>\n",
       "      <th>81</th>\n",
       "      <td>PulseGenerator.0</td>\n",
       "      <td>Channel</td>\n",
       "      <td>7</td>\n",
       "      <td>Name</td>\n",
       "      <td>Ch8</td>\n",
       "      <td>NaN</td>\n",
       "    </tr>\n",
       "    <tr>\n",
       "      <th>82</th>\n",
       "      <td>PulseGenerator.0</td>\n",
       "      <td>Channel</td>\n",
       "      <td>7</td>\n",
       "      <td>Role</td>\n",
       "      <td>NaN</td>\n",
       "      <td>NaN</td>\n",
       "    </tr>\n",
       "    <tr>\n",
       "      <th>83</th>\n",
       "      <td>PulseGenerator.0</td>\n",
       "      <td>Channel</td>\n",
       "      <td>7</td>\n",
       "      <td>Width</td>\n",
       "      <td>1</td>\n",
       "      <td>μs</td>\n",
       "    </tr>\n",
       "  </tbody>\n",
       "</table>\n",
       "</div>"
      ],
      "text/plain": [
       "              ObjKey ArrayKey  ArrayIndex     ValueKey       Value Units\n",
       "35  PulseGenerator.0      NaN        <NA>      RepRate          10    Hz\n",
       "36  PulseGenerator.0  Channel           0  ActiveLevel  ActiveHigh   NaN\n",
       "37  PulseGenerator.0  Channel           0        Delay           0    μs\n",
       "38  PulseGenerator.0  Channel           0      Enabled        true   NaN\n",
       "39  PulseGenerator.0  Channel           0         Name         Gas   NaN\n",
       "40  PulseGenerator.0  Channel           0         Role         Gas   NaN\n",
       "41  PulseGenerator.0  Channel           0        Width         650    μs\n",
       "42  PulseGenerator.0  Channel           1  ActiveLevel  ActiveHigh   NaN\n",
       "43  PulseGenerator.0  Channel           1        Delay           0    μs\n",
       "44  PulseGenerator.0  Channel           1      Enabled       false   NaN\n",
       "45  PulseGenerator.0  Channel           1         Name          DC   NaN\n",
       "46  PulseGenerator.0  Channel           1         Role          DC   NaN\n",
       "47  PulseGenerator.0  Channel           1        Width         160    μs\n",
       "48  PulseGenerator.0  Channel           2  ActiveLevel  ActiveHigh   NaN\n",
       "49  PulseGenerator.0  Channel           2        Delay        1300    μs\n",
       "50  PulseGenerator.0  Channel           2      Enabled        true   NaN\n",
       "51  PulseGenerator.0  Channel           2         Name         AWG   NaN\n",
       "52  PulseGenerator.0  Channel           2         Role         AWG   NaN\n",
       "53  PulseGenerator.0  Channel           2        Width         100    μs\n",
       "54  PulseGenerator.0  Channel           3  ActiveLevel  ActiveHigh   NaN\n",
       "55  PulseGenerator.0  Channel           3        Delay       200.5    μs\n",
       "56  PulseGenerator.0  Channel           3      Enabled       false   NaN\n",
       "57  PulseGenerator.0  Channel           3         Name         Ch4   NaN\n",
       "58  PulseGenerator.0  Channel           3         Role         NaN   NaN\n",
       "59  PulseGenerator.0  Channel           3        Width       2.019    μs\n",
       "60  PulseGenerator.0  Channel           4  ActiveLevel  ActiveHigh   NaN\n",
       "61  PulseGenerator.0  Channel           4        Delay           0    μs\n",
       "62  PulseGenerator.0  Channel           4      Enabled       false   NaN\n",
       "63  PulseGenerator.0  Channel           4         Name         Ch5   NaN\n",
       "64  PulseGenerator.0  Channel           4         Role         NaN   NaN\n",
       "65  PulseGenerator.0  Channel           4        Width           1    μs\n",
       "66  PulseGenerator.0  Channel           5  ActiveLevel  ActiveHigh   NaN\n",
       "67  PulseGenerator.0  Channel           5        Delay           0    μs\n",
       "68  PulseGenerator.0  Channel           5      Enabled       false   NaN\n",
       "69  PulseGenerator.0  Channel           5         Name         Ch6   NaN\n",
       "70  PulseGenerator.0  Channel           5         Role         NaN   NaN\n",
       "71  PulseGenerator.0  Channel           5        Width           1    μs\n",
       "72  PulseGenerator.0  Channel           6  ActiveLevel  ActiveHigh   NaN\n",
       "73  PulseGenerator.0  Channel           6        Delay           0    μs\n",
       "74  PulseGenerator.0  Channel           6      Enabled       false   NaN\n",
       "75  PulseGenerator.0  Channel           6         Name         Ch7   NaN\n",
       "76  PulseGenerator.0  Channel           6         Role         NaN   NaN\n",
       "77  PulseGenerator.0  Channel           6        Width           1    μs\n",
       "78  PulseGenerator.0  Channel           7  ActiveLevel  ActiveHigh   NaN\n",
       "79  PulseGenerator.0  Channel           7        Delay           0    μs\n",
       "80  PulseGenerator.0  Channel           7      Enabled       false   NaN\n",
       "81  PulseGenerator.0  Channel           7         Name         Ch8   NaN\n",
       "82  PulseGenerator.0  Channel           7         Role         NaN   NaN\n",
       "83  PulseGenerator.0  Channel           7        Width           1    μs"
      ]
     },
     "execution_count": 7,
     "metadata": {},
     "output_type": "execute_result"
    }
   ],
   "source": [
    "exp.header_rows('PulseGenerator.0')"
   ]
  },
  {
   "cell_type": "markdown",
   "id": "80646bc0-bcd3-46ed-9c5b-32d4606892e9",
   "metadata": {},
   "source": [
    "To see only the pulse widths:"
   ]
  },
  {
   "cell_type": "code",
   "execution_count": 8,
   "id": "c6d728bc-7912-468d-bcb2-317a25b058f8",
   "metadata": {
    "tags": []
   },
   "outputs": [
    {
     "data": {
      "text/html": [
       "<div>\n",
       "<style scoped>\n",
       "    .dataframe tbody tr th:only-of-type {\n",
       "        vertical-align: middle;\n",
       "    }\n",
       "\n",
       "    .dataframe tbody tr th {\n",
       "        vertical-align: top;\n",
       "    }\n",
       "\n",
       "    .dataframe thead th {\n",
       "        text-align: right;\n",
       "    }\n",
       "</style>\n",
       "<table border=\"1\" class=\"dataframe\">\n",
       "  <thead>\n",
       "    <tr style=\"text-align: right;\">\n",
       "      <th></th>\n",
       "      <th>ObjKey</th>\n",
       "      <th>ArrayKey</th>\n",
       "      <th>ArrayIndex</th>\n",
       "      <th>ValueKey</th>\n",
       "      <th>Value</th>\n",
       "      <th>Units</th>\n",
       "    </tr>\n",
       "  </thead>\n",
       "  <tbody>\n",
       "    <tr>\n",
       "      <th>41</th>\n",
       "      <td>PulseGenerator.0</td>\n",
       "      <td>Channel</td>\n",
       "      <td>0</td>\n",
       "      <td>Width</td>\n",
       "      <td>650</td>\n",
       "      <td>μs</td>\n",
       "    </tr>\n",
       "    <tr>\n",
       "      <th>47</th>\n",
       "      <td>PulseGenerator.0</td>\n",
       "      <td>Channel</td>\n",
       "      <td>1</td>\n",
       "      <td>Width</td>\n",
       "      <td>160</td>\n",
       "      <td>μs</td>\n",
       "    </tr>\n",
       "    <tr>\n",
       "      <th>53</th>\n",
       "      <td>PulseGenerator.0</td>\n",
       "      <td>Channel</td>\n",
       "      <td>2</td>\n",
       "      <td>Width</td>\n",
       "      <td>100</td>\n",
       "      <td>μs</td>\n",
       "    </tr>\n",
       "    <tr>\n",
       "      <th>59</th>\n",
       "      <td>PulseGenerator.0</td>\n",
       "      <td>Channel</td>\n",
       "      <td>3</td>\n",
       "      <td>Width</td>\n",
       "      <td>2.019</td>\n",
       "      <td>μs</td>\n",
       "    </tr>\n",
       "    <tr>\n",
       "      <th>65</th>\n",
       "      <td>PulseGenerator.0</td>\n",
       "      <td>Channel</td>\n",
       "      <td>4</td>\n",
       "      <td>Width</td>\n",
       "      <td>1</td>\n",
       "      <td>μs</td>\n",
       "    </tr>\n",
       "    <tr>\n",
       "      <th>71</th>\n",
       "      <td>PulseGenerator.0</td>\n",
       "      <td>Channel</td>\n",
       "      <td>5</td>\n",
       "      <td>Width</td>\n",
       "      <td>1</td>\n",
       "      <td>μs</td>\n",
       "    </tr>\n",
       "    <tr>\n",
       "      <th>77</th>\n",
       "      <td>PulseGenerator.0</td>\n",
       "      <td>Channel</td>\n",
       "      <td>6</td>\n",
       "      <td>Width</td>\n",
       "      <td>1</td>\n",
       "      <td>μs</td>\n",
       "    </tr>\n",
       "    <tr>\n",
       "      <th>83</th>\n",
       "      <td>PulseGenerator.0</td>\n",
       "      <td>Channel</td>\n",
       "      <td>7</td>\n",
       "      <td>Width</td>\n",
       "      <td>1</td>\n",
       "      <td>μs</td>\n",
       "    </tr>\n",
       "  </tbody>\n",
       "</table>\n",
       "</div>"
      ],
      "text/plain": [
       "              ObjKey ArrayKey  ArrayIndex ValueKey  Value Units\n",
       "41  PulseGenerator.0  Channel           0    Width    650    μs\n",
       "47  PulseGenerator.0  Channel           1    Width    160    μs\n",
       "53  PulseGenerator.0  Channel           2    Width    100    μs\n",
       "59  PulseGenerator.0  Channel           3    Width  2.019    μs\n",
       "65  PulseGenerator.0  Channel           4    Width      1    μs\n",
       "71  PulseGenerator.0  Channel           5    Width      1    μs\n",
       "77  PulseGenerator.0  Channel           6    Width      1    μs\n",
       "83  PulseGenerator.0  Channel           7    Width      1    μs"
      ]
     },
     "execution_count": 8,
     "metadata": {},
     "output_type": "execute_result"
    }
   ],
   "source": [
    "exp.header_rows('PulseGenerator.0','Width')"
   ]
  },
  {
   "cell_type": "markdown",
   "id": "67af9f30-9b6d-45af-a261-a473a78e23bc",
   "metadata": {},
   "source": [
    "And finally, the `BCExperiment.header_value()` function retrieves one particular value from the table. A corresponding `BCExperiment.header_unit()` function can be used to retrieve the unit, if desired. Note that the value is returned as a string, so it may need to be explicitly cast to an `int` or `float` if the value will be used in a calculation."
   ]
  },
  {
   "cell_type": "code",
   "execution_count": 9,
   "id": "80aebf6d-0e4c-4fd6-8df6-a78f660ec28e",
   "metadata": {
    "tags": []
   },
   "outputs": [
    {
     "data": {
      "text/plain": [
       "\u001b[0;31mSignature:\u001b[0m\n",
       "\u001b[0mexp\u001b[0m\u001b[0;34m.\u001b[0m\u001b[0mheader_value\u001b[0m\u001b[0;34m(\u001b[0m\u001b[0;34m\u001b[0m\n",
       "\u001b[0;34m\u001b[0m    \u001b[0mobjKey\u001b[0m\u001b[0;34m:\u001b[0m \u001b[0;34m'str'\u001b[0m\u001b[0;34m,\u001b[0m\u001b[0;34m\u001b[0m\n",
       "\u001b[0;34m\u001b[0m    \u001b[0mvalKey\u001b[0m\u001b[0;34m:\u001b[0m \u001b[0;34m'str'\u001b[0m\u001b[0;34m,\u001b[0m\u001b[0;34m\u001b[0m\n",
       "\u001b[0;34m\u001b[0m    \u001b[0midx\u001b[0m\u001b[0;34m:\u001b[0m \u001b[0;34m'int'\u001b[0m \u001b[0;34m=\u001b[0m \u001b[0;36m0\u001b[0m\u001b[0;34m,\u001b[0m\u001b[0;34m\u001b[0m\n",
       "\u001b[0;34m\u001b[0m    \u001b[0marrKey\u001b[0m\u001b[0;34m:\u001b[0m \u001b[0;34m'str'\u001b[0m \u001b[0;34m=\u001b[0m \u001b[0;32mNone\u001b[0m\u001b[0;34m,\u001b[0m\u001b[0;34m\u001b[0m\n",
       "\u001b[0;34m\u001b[0m\u001b[0;34m)\u001b[0m \u001b[0;34m->\u001b[0m \u001b[0;34m'str'\u001b[0m\u001b[0;34m\u001b[0m\u001b[0;34m\u001b[0m\u001b[0m\n",
       "\u001b[0;31mDocstring:\u001b[0m\n",
       "Fetch one value from header\n",
       "\n",
       "The objKey and valKey (and arrKey, if specified) are used to filter the header.\n",
       "Then the idx value is used to determine which row to return. If a match is not\n",
       "found, an empty string is returned\n",
       "\n",
       "Args:\n",
       "    objKey: Object key in header\n",
       "    valKey: Value key in header\n",
       "    idx: Row number to return (optional)\n",
       "    arrKey: Array key in header (optional)\n",
       "\n",
       "Returns:\n",
       "    Matching value or empty string\n",
       "\u001b[0;31mFile:\u001b[0m      ~/github/blackchirp/src/python/blackchirp/src/blackchirp/blackchirpexperiment.py\n",
       "\u001b[0;31mType:\u001b[0m      method"
      ]
     },
     "metadata": {},
     "output_type": "display_data"
    }
   ],
   "source": [
    "exp.header_value?"
   ]
  },
  {
   "cell_type": "code",
   "execution_count": 10,
   "id": "4d69cdef-d2d7-4717-b6f6-8d999b25981c",
   "metadata": {
    "tags": []
   },
   "outputs": [
    {
     "data": {
      "text/plain": [
       "('2.019', 'μs')"
      ]
     },
     "execution_count": 10,
     "metadata": {},
     "output_type": "execute_result"
    }
   ],
   "source": [
    "exp.header_value('PulseGenerator.0','Width',3),exp.header_unit('PulseGenerator.0','Width',3)"
   ]
  },
  {
   "cell_type": "markdown",
   "id": "ca4f87cd-3906-4f6b-95d3-dea07900574f",
   "metadata": {},
   "source": [
    "Other csv files are similarly accessible."
   ]
  },
  {
   "cell_type": "code",
   "execution_count": 11,
   "id": "977e2ac2-1970-4c14-bfa2-f3bcbec49c7b",
   "metadata": {
    "tags": []
   },
   "outputs": [
    {
     "data": {
      "text/html": [
       "<div>\n",
       "<style scoped>\n",
       "    .dataframe tbody tr th:only-of-type {\n",
       "        vertical-align: middle;\n",
       "    }\n",
       "\n",
       "    .dataframe tbody tr th {\n",
       "        vertical-align: top;\n",
       "    }\n",
       "\n",
       "    .dataframe thead th {\n",
       "        text-align: right;\n",
       "    }\n",
       "</style>\n",
       "<table border=\"1\" class=\"dataframe\">\n",
       "  <thead>\n",
       "    <tr style=\"text-align: right;\">\n",
       "      <th></th>\n",
       "      <th>Chirp</th>\n",
       "      <th>Segment</th>\n",
       "      <th>StartMHz</th>\n",
       "      <th>EndMHz</th>\n",
       "      <th>DurationUs</th>\n",
       "      <th>Alpha</th>\n",
       "      <th>Empty</th>\n",
       "    </tr>\n",
       "  </thead>\n",
       "  <tbody>\n",
       "    <tr>\n",
       "      <th>0</th>\n",
       "      <td>0</td>\n",
       "      <td>0</td>\n",
       "      <td>4895</td>\n",
       "      <td>1520</td>\n",
       "      <td>3</td>\n",
       "      <td>-1125</td>\n",
       "      <td>False</td>\n",
       "    </tr>\n",
       "    <tr>\n",
       "      <th>1</th>\n",
       "      <td>1</td>\n",
       "      <td>0</td>\n",
       "      <td>4895</td>\n",
       "      <td>1520</td>\n",
       "      <td>3</td>\n",
       "      <td>-1125</td>\n",
       "      <td>False</td>\n",
       "    </tr>\n",
       "    <tr>\n",
       "      <th>2</th>\n",
       "      <td>2</td>\n",
       "      <td>0</td>\n",
       "      <td>4895</td>\n",
       "      <td>1520</td>\n",
       "      <td>3</td>\n",
       "      <td>-1125</td>\n",
       "      <td>False</td>\n",
       "    </tr>\n",
       "    <tr>\n",
       "      <th>3</th>\n",
       "      <td>3</td>\n",
       "      <td>0</td>\n",
       "      <td>4895</td>\n",
       "      <td>1520</td>\n",
       "      <td>3</td>\n",
       "      <td>-1125</td>\n",
       "      <td>False</td>\n",
       "    </tr>\n",
       "    <tr>\n",
       "      <th>4</th>\n",
       "      <td>4</td>\n",
       "      <td>0</td>\n",
       "      <td>4895</td>\n",
       "      <td>1520</td>\n",
       "      <td>3</td>\n",
       "      <td>-1125</td>\n",
       "      <td>False</td>\n",
       "    </tr>\n",
       "    <tr>\n",
       "      <th>5</th>\n",
       "      <td>5</td>\n",
       "      <td>0</td>\n",
       "      <td>4895</td>\n",
       "      <td>1520</td>\n",
       "      <td>3</td>\n",
       "      <td>-1125</td>\n",
       "      <td>False</td>\n",
       "    </tr>\n",
       "    <tr>\n",
       "      <th>6</th>\n",
       "      <td>6</td>\n",
       "      <td>0</td>\n",
       "      <td>4895</td>\n",
       "      <td>1520</td>\n",
       "      <td>3</td>\n",
       "      <td>-1125</td>\n",
       "      <td>False</td>\n",
       "    </tr>\n",
       "    <tr>\n",
       "      <th>7</th>\n",
       "      <td>7</td>\n",
       "      <td>0</td>\n",
       "      <td>4895</td>\n",
       "      <td>1520</td>\n",
       "      <td>3</td>\n",
       "      <td>-1125</td>\n",
       "      <td>False</td>\n",
       "    </tr>\n",
       "    <tr>\n",
       "      <th>8</th>\n",
       "      <td>8</td>\n",
       "      <td>0</td>\n",
       "      <td>4895</td>\n",
       "      <td>1520</td>\n",
       "      <td>3</td>\n",
       "      <td>-1125</td>\n",
       "      <td>False</td>\n",
       "    </tr>\n",
       "    <tr>\n",
       "      <th>9</th>\n",
       "      <td>9</td>\n",
       "      <td>0</td>\n",
       "      <td>4895</td>\n",
       "      <td>1520</td>\n",
       "      <td>3</td>\n",
       "      <td>-1125</td>\n",
       "      <td>False</td>\n",
       "    </tr>\n",
       "  </tbody>\n",
       "</table>\n",
       "</div>"
      ],
      "text/plain": [
       "   Chirp  Segment  StartMHz  EndMHz  DurationUs  Alpha  Empty\n",
       "0      0        0      4895    1520           3  -1125  False\n",
       "1      1        0      4895    1520           3  -1125  False\n",
       "2      2        0      4895    1520           3  -1125  False\n",
       "3      3        0      4895    1520           3  -1125  False\n",
       "4      4        0      4895    1520           3  -1125  False\n",
       "5      5        0      4895    1520           3  -1125  False\n",
       "6      6        0      4895    1520           3  -1125  False\n",
       "7      7        0      4895    1520           3  -1125  False\n",
       "8      8        0      4895    1520           3  -1125  False\n",
       "9      9        0      4895    1520           3  -1125  False"
      ]
     },
     "execution_count": 11,
     "metadata": {},
     "output_type": "execute_result"
    }
   ],
   "source": [
    "exp.chirps"
   ]
  },
  {
   "cell_type": "markdown",
   "id": "51362013-b9c3-4083-94ee-a34f22beb019",
   "metadata": {},
   "source": [
    "## FID data and Fourier Transforms\n",
    "\n",
    "The CP-FTMW data for an experiment are stored in a BCFTMW object which is accessible as `BCExperiment.ftmw`. This object can be used to view data about the available FIDs and load them from disk. For a single FID acquisition like this, the FID is loaded with `BCFTMW.get_fid()`, which returns a `BCFid` object. The `BCFID.ft()` method computes the Fourier transform of that FID. As a quick example:"
   ]
  },
  {
   "cell_type": "code",
   "execution_count": 12,
   "id": "cba12dba-bd9c-4c98-9f28-53a7f9b7ac85",
   "metadata": {},
   "outputs": [
    {
     "data": {
      "text/plain": [
       "(26500.0, 40000.0)"
      ]
     },
     "execution_count": 12,
     "metadata": {},
     "output_type": "execute_result"
    },
    {
     "data": {
      "image/png": "[encoded data removed]",
      "text/plain": [
       "<Figure size 1000x300 with 1 Axes>"
      ]
     },
     "metadata": {},
     "output_type": "display_data"
    }
   ],
   "source": [
    "x,y = exp.ftmw.get_fid().ft()\n",
    "\n",
    "fig,ax = plt.subplots(figsize=(10,3))\n",
    "ax.plot(x,y)\n",
    "ax.set_xlabel('Frequency (MHz)')\n",
    "ax.set_xlim(26500,40000)"
   ]
  },
  {
   "cell_type": "markdown",
   "id": "1516b33b-a3fa-48c0-b6ca-ea21af214d43",
   "metadata": {},
   "source": [
    "Taking a step back, the FID itself can be stored and visualized. The FID itself has `BCFid.y()` and `BCFid.xy()` methods which return arrays containing the FID data in units of V, and in the latter case, also the time array in units of s. For this FID, the chirp takes place from roughly 0.75 - 3.75 μs."
   ]
  },
  {
   "cell_type": "code",
   "execution_count": 13,
   "id": "51d46d02-5c06-4cce-8356-889c048bbac7",
   "metadata": {
    "tags": []
   },
   "outputs": [
    {
     "data": {
      "text/plain": [
       "<matplotlib.legend.Legend at 0x7f341a35dbe0>"
      ]
     },
     "execution_count": 13,
     "metadata": {},
     "output_type": "execute_result"
    },
    {
     "data": {
      "image/png": "[encoded data removed]",
      "text/plain": [
       "<Figure size 1000x300 with 1 Axes>"
      ]
     },
     "metadata": {},
     "output_type": "display_data"
    }
   ],
   "source": [
    "fid = exp.ftmw.get_fid()\n",
    "\n",
    "fidx, fidy = fid.xy()\n",
    "fig,ax = plt.subplots(figsize=(10,3))\n",
    "ax.plot(fidx*1e6,fidy,label=f'{int(fid.shots)} shots')\n",
    "ax.set_xlabel('Time (μs)')\n",
    "ax.set_ylabel('FID (V)')\n",
    "ax.legend(frameon=False)"
   ]
  },
  {
   "cell_type": "markdown",
   "id": "eed08bc4-f3b0-4464-8786-3408ceb85c72",
   "metadata": {},
   "source": [
    "At this point it is important to note that `fidy` is a 2D numpy array. The second axis corresponds to the frame number. In this acquisition, there is only 1 frame, but for an acquisition configured with multiple records this number may be larger. A single frame can then be selected by slicing (e.g., `fidy[:,3]`)."
   ]
  },
  {
   "cell_type": "code",
   "execution_count": 14,
   "id": "2c37d39f-bfd5-4d6a-a0dd-4074fa1dda6e",
   "metadata": {},
   "outputs": [
    {
     "data": {
      "text/plain": [
       "(750000, 1)"
      ]
     },
     "execution_count": 14,
     "metadata": {},
     "output_type": "execute_result"
    }
   ],
   "source": [
    "fidy.shape"
   ]
  },
  {
   "cell_type": "markdown",
   "id": "a1473552-5fa0-43ac-be21-85a66da8b7d8",
   "metadata": {},
   "source": [
    "The contents of the `fidparams.csv` file are available as an attribute of the `BCFTMW` object."
   ]
  },
  {
   "cell_type": "code",
   "execution_count": 15,
   "id": "c25b5fa8-8517-4fbb-b365-46551275777b",
   "metadata": {},
   "outputs": [
    {
     "data": {
      "text/html": [
       "<div>\n",
       "<style scoped>\n",
       "    .dataframe tbody tr th:only-of-type {\n",
       "        vertical-align: middle;\n",
       "    }\n",
       "\n",
       "    .dataframe tbody tr th {\n",
       "        vertical-align: top;\n",
       "    }\n",
       "\n",
       "    .dataframe thead th {\n",
       "        text-align: right;\n",
       "    }\n",
       "</style>\n",
       "<table border=\"1\" class=\"dataframe\">\n",
       "  <thead>\n",
       "    <tr style=\"text-align: right;\">\n",
       "      <th></th>\n",
       "      <th>spacing</th>\n",
       "      <th>probefreq</th>\n",
       "      <th>vmult</th>\n",
       "      <th>shots</th>\n",
       "      <th>sideband</th>\n",
       "      <th>size</th>\n",
       "    </tr>\n",
       "    <tr>\n",
       "      <th>index</th>\n",
       "      <th></th>\n",
       "      <th></th>\n",
       "      <th></th>\n",
       "      <th></th>\n",
       "      <th></th>\n",
       "      <th></th>\n",
       "    </tr>\n",
       "  </thead>\n",
       "  <tbody>\n",
       "    <tr>\n",
       "      <th>0</th>\n",
       "      <td>2.000000e-11</td>\n",
       "      <td>40960</td>\n",
       "      <td>0.000002</td>\n",
       "      <td>525660</td>\n",
       "      <td>1</td>\n",
       "      <td>750000</td>\n",
       "    </tr>\n",
       "    <tr>\n",
       "      <th>1</th>\n",
       "      <td>2.000000e-11</td>\n",
       "      <td>40960</td>\n",
       "      <td>0.000002</td>\n",
       "      <td>359890</td>\n",
       "      <td>1</td>\n",
       "      <td>750000</td>\n",
       "    </tr>\n",
       "  </tbody>\n",
       "</table>\n",
       "</div>"
      ],
      "text/plain": [
       "            spacing  probefreq     vmult   shots  sideband    size\n",
       "index                                                             \n",
       "0      2.000000e-11      40960  0.000002  525660         1  750000\n",
       "1      2.000000e-11      40960  0.000002  359890         1  750000"
      ]
     },
     "execution_count": 15,
     "metadata": {},
     "output_type": "execute_result"
    }
   ],
   "source": [
    "exp.ftmw.fidparams"
   ]
  },
  {
   "cell_type": "markdown",
   "id": "f4269ab0-e8a8-4fa0-9547-de6753313088",
   "metadata": {},
   "source": [
    "This experiment contains 2 FIDs: FID 0 is the final set of data and FID 1 was a backup that was taken one hour into the acquisition. The `BCFTMW.get_fid()` function takes an optional argument that specifies the FID number to retrieve. We can therefore access the backup version with `get_fid(1)`. The code below loads the backup and plots its FT together with the total, showing the decrease in noise level with increasing shots."
   ]
  },
  {
   "cell_type": "code",
   "execution_count": 16,
   "id": "7eed04f2-34a8-4156-a867-bf14d40c4e62",
   "metadata": {
    "tags": []
   },
   "outputs": [
    {
     "data": {
      "text/plain": [
       "<matplotlib.legend.Legend at 0x7f341a7acf10>"
      ]
     },
     "execution_count": 16,
     "metadata": {},
     "output_type": "execute_result"
    },
    {
     "data": {
      "image/png": "[encoded data removed]",
      "text/plain": [
       "<Figure size 1000x300 with 1 Axes>"
      ]
     },
     "metadata": {},
     "output_type": "display_data"
    }
   ],
   "source": [
    "x2,y2 = exp.ftmw.get_fid(1).ft()\n",
    "fig,ax = plt.subplots(figsize=(10,3))\n",
    "ax.plot(x2,y2,label='FID 1')\n",
    "ax.plot(x,y,label='FID 0')\n",
    "ax.set_xlabel('Frequency (MHz)')\n",
    "ax.set_xlim(36000,36010)\n",
    "ax.set_ylim(0,0.12)\n",
    "ax.legend()"
   ]
  },
  {
   "cell_type": "markdown",
   "id": "25df6e19-e763-42c3-9d7a-561e1b3e900c",
   "metadata": {},
   "source": [
    "The `BCFid.ft()` function also allows for customizing the FID processing options like those in the Blackchirp program itself. The default values are read in from `processing.csv`, which is converted into a python dictionary named `proc` which is an attribute of `BCFTMW`. One notable difference in behavior: in the python module, points within \"AutoscaleMHz\" of the probe frequency are set to 0 to accommodate automatic autoscaling of the plot, while in Blackchirp itself those points are still shown but are not included when computing the vertical range of the FT."
   ]
  },
  {
   "cell_type": "code",
   "execution_count": 17,
   "id": "b10b8a49-a82a-4519-9854-3db1855cd593",
   "metadata": {
    "tags": []
   },
   "outputs": [
    {
     "data": {
      "text/plain": [
       "{'AutoscaleIgnoreMHz': '255',\n",
       " 'FidEndUs': '15',\n",
       " 'FidExpfUs': '0',\n",
       " 'FidRemoveDC': 'true',\n",
       " 'FidStartUs': '4.35',\n",
       " 'FidWindowFunction': '0',\n",
       " 'FidZeroPadFactor': '1',\n",
       " 'FtUnits': '6'}"
      ]
     },
     "execution_count": 17,
     "metadata": {},
     "output_type": "execute_result"
    }
   ],
   "source": [
    "exp.ftmw.proc"
   ]
  },
  {
   "cell_type": "markdown",
   "id": "8754edcb-4a03-4f5e-bb58-4bd85398aced",
   "metadata": {},
   "source": [
    "The `BCFid.ft()` function allows for any of these settings to be overridden."
   ]
  },
  {
   "cell_type": "code",
   "execution_count": 18,
   "id": "adc1500d-00d2-4f67-bb7f-e49945bfa2d4",
   "metadata": {
    "tags": []
   },
   "outputs": [
    {
     "data": {
      "text/plain": [
       "\u001b[0;31mSignature:\u001b[0m\n",
       "\u001b[0mfid\u001b[0m\u001b[0;34m.\u001b[0m\u001b[0mft\u001b[0m\u001b[0;34m(\u001b[0m\u001b[0;34m\u001b[0m\n",
       "\u001b[0;34m\u001b[0m    \u001b[0;34m*\u001b[0m\u001b[0;34m,\u001b[0m\u001b[0;34m\u001b[0m\n",
       "\u001b[0;34m\u001b[0m    \u001b[0mstart_us\u001b[0m\u001b[0;34m:\u001b[0m \u001b[0;34m'float'\u001b[0m \u001b[0;34m=\u001b[0m \u001b[0;32mNone\u001b[0m\u001b[0;34m,\u001b[0m\u001b[0;34m\u001b[0m\n",
       "\u001b[0;34m\u001b[0m    \u001b[0mend_us\u001b[0m\u001b[0;34m:\u001b[0m \u001b[0;34m'float'\u001b[0m \u001b[0;34m=\u001b[0m \u001b[0;32mNone\u001b[0m\u001b[0;34m,\u001b[0m\u001b[0;34m\u001b[0m\n",
       "\u001b[0;34m\u001b[0m    \u001b[0mwinf\u001b[0m\u001b[0;34m:\u001b[0m \u001b[0;34m'str'\u001b[0m \u001b[0;34m=\u001b[0m \u001b[0;32mNone\u001b[0m\u001b[0;34m,\u001b[0m\u001b[0;34m\u001b[0m\n",
       "\u001b[0;34m\u001b[0m    \u001b[0mzpf\u001b[0m\u001b[0;34m:\u001b[0m \u001b[0;34m'int'\u001b[0m \u001b[0;34m=\u001b[0m \u001b[0;32mNone\u001b[0m\u001b[0;34m,\u001b[0m\u001b[0;34m\u001b[0m\n",
       "\u001b[0;34m\u001b[0m    \u001b[0mrdc\u001b[0m\u001b[0;34m:\u001b[0m \u001b[0;34m'bool'\u001b[0m \u001b[0;34m=\u001b[0m \u001b[0;32mNone\u001b[0m\u001b[0;34m,\u001b[0m\u001b[0;34m\u001b[0m\n",
       "\u001b[0;34m\u001b[0m    \u001b[0mexpf_us\u001b[0m\u001b[0;34m:\u001b[0m \u001b[0;34m'float'\u001b[0m \u001b[0;34m=\u001b[0m \u001b[0;32mNone\u001b[0m\u001b[0;34m,\u001b[0m\u001b[0;34m\u001b[0m\n",
       "\u001b[0;34m\u001b[0m    \u001b[0mautoscale_MHz\u001b[0m\u001b[0;34m:\u001b[0m \u001b[0;34m'float'\u001b[0m \u001b[0;34m=\u001b[0m \u001b[0;32mNone\u001b[0m\u001b[0;34m,\u001b[0m\u001b[0;34m\u001b[0m\n",
       "\u001b[0;34m\u001b[0m    \u001b[0munits_power\u001b[0m\u001b[0;34m:\u001b[0m \u001b[0;34m'int'\u001b[0m \u001b[0;34m=\u001b[0m \u001b[0;32mNone\u001b[0m\u001b[0;34m,\u001b[0m\u001b[0;34m\u001b[0m\n",
       "\u001b[0;34m\u001b[0m    \u001b[0mframe\u001b[0m\u001b[0;34m:\u001b[0m \u001b[0;34m'int'\u001b[0m \u001b[0;34m=\u001b[0m \u001b[0;32mNone\u001b[0m\u001b[0;34m,\u001b[0m\u001b[0;34m\u001b[0m\n",
       "\u001b[0;34m\u001b[0m\u001b[0;34m)\u001b[0m \u001b[0;34m->\u001b[0m \u001b[0;34m'tuple[np.ndarray, np.ndarray]'\u001b[0m\u001b[0;34m\u001b[0m\u001b[0;34m\u001b[0m\u001b[0m\n",
       "\u001b[0;31mDocstring:\u001b[0m\n",
       "Compute the Fourier transform of the FID\n",
       "\n",
       "By default, this computes the FT for each frame in the FID using the settings\n",
       "stored in the proc dictionary. This behavior can be overridden by specifying\n",
       "any combination of the keyword arguments.\n",
       "\n",
       "Args:\n",
       "    start_us: Starting time, in μs. Points at earlier times are set to 0.\n",
       "    end_us: Ending time, in μs. Points at later times are set to 0.\n",
       "    winf: Window function applied to points between start and end.\n",
       "        This is passed directly to `scipy.signal.get_window <https://docs.scipy.org/doc/scipy/reference/generated/scipy.signal.get_window.html>`_.\n",
       "    zpf: Zero-padding factor (positive integer). If nonzero, the FID is\n",
       "        padded with zeroes until its length reaches the next power of 2,\n",
       "        Then, its length is further extended by 2\\*\\*zpf.\n",
       "    rdc: If true, the average of the FID is subtracted before the FT is\n",
       "        computed.\n",
       "    expf_us: Time constant for an exponential decay filter, in μs.\n",
       "    autoscale_MHz: Range of FT points to set to 0, relative to the Downconversion\n",
       "        LO frequency. Useful for suppressing noise near DC.\n",
       "    units_power: FT is scaled by 10\\*\\*units_power. For μV units, set\n",
       "        units_power=6.\n",
       "    frame: Apply FT to only the specified frame.\n",
       "\n",
       "Returns:\n",
       "    Frequency array (MHz), Intensity array\n",
       "\n",
       "Raises:\n",
       "    ValueError: If supplied arguments are invalid\n",
       "\n",
       "Examples:\n",
       "    Assuming a BCFid object named ``fid``::\n",
       "\n",
       "        #default FT calculation\n",
       "        x,y = fid.ft()\n",
       "\n",
       "        #override some processing settings\n",
       "        x,y = fid.ft(start_us=3.0,rdc=False,units_power=3)\n",
       "\n",
       "        #compute ft for only frame 3 (assuming the number of frames is >=4)\n",
       "        x,y = fid.ft(frame=3)\n",
       "\n",
       "        #average all frames, then apply a custom window function\n",
       "        fid.average_frames()\n",
       "        p = 1.5\n",
       "        sigma = len(fid)//5\n",
       "        x,y = fid.ft(winf=('general_gaussian',p,sigma))\n",
       "\u001b[0;31mFile:\u001b[0m      ~/github/blackchirp/src/python/blackchirp/src/blackchirp/bcfid.py\n",
       "\u001b[0;31mType:\u001b[0m      method"
      ]
     },
     "metadata": {},
     "output_type": "display_data"
    }
   ],
   "source": [
    "fid.ft?"
   ]
  },
  {
   "cell_type": "markdown",
   "id": "0b398568-3add-49b8-9c10-8fad43e9b720",
   "metadata": {},
   "source": [
    "For example, to apply an exponential filter and compare with the original data:"
   ]
  },
  {
   "cell_type": "code",
   "execution_count": 19,
   "id": "7c785fec-0180-417c-9e1f-4a179e8c61ce",
   "metadata": {
    "tags": []
   },
   "outputs": [
    {
     "data": {
      "text/plain": [
       "Text(0.5, 0, 'Frequency (MHz)')"
      ]
     },
     "execution_count": 19,
     "metadata": {},
     "output_type": "execute_result"
    },
    {
     "data": {
      "image/png": "[encoded data removed]",
      "text/plain": [
       "<Figure size 1000x600 with 2 Axes>"
      ]
     },
     "metadata": {},
     "output_type": "display_data"
    }
   ],
   "source": [
    "expf = 5.0\n",
    "x3,y3 = exp.ftmw.get_fid().ft(expf_us=expf)\n",
    "\n",
    "fig,axes = plt.subplots(2,1,figsize=(10,6))\n",
    "for ax in axes:\n",
    "    ax.plot(x,y,label='No filter')\n",
    "    ax.plot(x3,y3,label=f'expf = {expf:.2f} μs')\n",
    "axes[0].set_xlim(26500,40000)\n",
    "axes[1].set_xlim(34600,34610)\n",
    "axes[1].set_ylim(0,6.5)\n",
    "axes[0].legend()\n",
    "axes[1].set_xlabel('Frequency (MHz)')"
   ]
  },
  {
   "cell_type": "markdown",
   "id": "94683f78-4e25-474e-82be-fa35c81ab8ec",
   "metadata": {
    "tags": []
   },
   "source": [
    "A greater variety of window functions is available in the Python module compared with Blackchirp. The `winf` parameter can be set to any value supported by [scipy.signal.get_window](https://docs.scipy.org/doc/scipy/reference/generated/scipy.signal.get_window.html). For example, a generalized Gaussian window with variable p and σ parameters can be used by passing a tuple with the window name and parameter values:"
   ]
  },
  {
   "cell_type": "code",
   "execution_count": 20,
   "id": "a5aeb8bf-4099-4ef6-aae9-2aa222636bd7",
   "metadata": {
    "tags": []
   },
   "outputs": [
    {
     "data": {
      "text/plain": [
       "Text(0.5, 0, 'Frequency (MHz)')"
      ]
     },
     "execution_count": 20,
     "metadata": {},
     "output_type": "execute_result"
    },
    {
     "data": {
      "image/png": "[encoded data removed]",
      "text/plain": [
       "<Figure size 1000x600 with 2 Axes>"
      ]
     },
     "metadata": {},
     "output_type": "display_data"
    }
   ],
   "source": [
    "p = 1.5\n",
    "sigma = len(fid)//5\n",
    "x4,y4 = fid.ft(winf=('general_gaussian',p,sigma))\n",
    "\n",
    "fig,axes = plt.subplots(2,1,figsize=(10,6))\n",
    "for ax in axes:\n",
    "    ax.plot(x,y,label='No window')\n",
    "    ax.plot(x4,y4,label=f'Gaussian window (p={p:.2f},σ={int(sigma)})')\n",
    "axes[0].set_xlim(26500,40000)\n",
    "axes[1].set_xlim(34600,34610)\n",
    "axes[1].set_ylim(0,6.5)\n",
    "axes[0].legend()\n",
    "axes[1].set_xlabel('Frequency (MHz)')"
   ]
  },
  {
   "cell_type": "markdown",
   "id": "2f734705-5095-4b21-9151-21d16f712a3a",
   "metadata": {},
   "source": [
    "Like the FID, the FT y array is 2-dimensional, where the second axis corresponds to the frame number. By default, the FT is applied to all frames at once; if only a single frame is desired, pass its index as the `frame` parameter."
   ]
  },
  {
   "cell_type": "code",
   "execution_count": 21,
   "id": "3a96678a-55a4-4260-8d3b-3f2f7abfe16c",
   "metadata": {
    "tags": []
   },
   "outputs": [
    {
     "data": {
      "text/plain": [
       "(1048577, 1)"
      ]
     },
     "execution_count": 21,
     "metadata": {},
     "output_type": "execute_result"
    }
   ],
   "source": [
    "y.shape"
   ]
  },
  {
   "cell_type": "code",
   "execution_count": null,
   "id": "91452a1f-2b07-4b8c-a680-2843aaa50cb6",
   "metadata": {},
   "outputs": [],
   "source": []
  }
 ],
 "metadata": {
  "kernelspec": {
   "display_name": "Python 3 (ipykernel)",
   "language": "python",
   "name": "python3"
  },
  "language_info": {
   "codemirror_mode": {
    "name": "ipython",
    "version": 3
   },
   "file_extension": ".py",
   "mimetype": "text/x-python",
   "name": "python",
   "nbconvert_exporter": "python",
   "pygments_lexer": "ipython3",
   "version": "3.9.16"
  }
 },
 "nbformat": 4,
 "nbformat_minor": 5
}
